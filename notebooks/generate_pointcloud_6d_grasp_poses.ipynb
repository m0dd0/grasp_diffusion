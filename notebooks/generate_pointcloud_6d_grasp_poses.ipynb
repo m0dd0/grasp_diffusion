{
 "cells": [
  {
   "cell_type": "markdown",
   "metadata": {},
   "source": [
    "Restrucutred version of the same named script in the `scripts` directory. Used to understand the code better and analysze whats going on."
   ]
  },
  {
   "cell_type": "code",
   "execution_count": 1,
   "metadata": {},
   "outputs": [
    {
     "name": "stdout",
     "output_type": "stream",
     "text": [
      "Importing module 'gym_37' (/home/moritz/Documents/isaacgym/python/isaacgym/_bindings/linux-x86_64/gym_37.so)\n",
      "Setting GYM_USD_PLUG_INFO_PATH to /home/moritz/Documents/isaacgym/python/isaacgym/_bindings/linux-x86_64/usd/plugInfo.json\n"
     ]
    },
    {
     "name": "stderr",
     "output_type": "stream",
     "text": [
      "/home/moritz/miniconda3/envs/alr/envs/se3dif_env/lib/python3.7/site-packages/tqdm/auto.py:22: TqdmWarning: IProgress not found. Please update jupyter and ipywidgets. See https://ipywidgets.readthedocs.io/en/stable/user_install.html\n",
      "  from .autonotebook import tqdm as notebook_tqdm\n"
     ]
    },
    {
     "name": "stdout",
     "output_type": "stream",
     "text": [
      "PyTorch version 1.13.1+cu116\n",
      "Device count 1\n",
      "/home/moritz/Documents/isaacgym/python/isaacgym/_bindings/src/gymtorch\n"
     ]
    },
    {
     "name": "stderr",
     "output_type": "stream",
     "text": [
      "Using /home/moritz/.cache/torch_extensions/py37_cu116 as PyTorch extensions root...\n",
      "Emitting ninja build file /home/moritz/.cache/torch_extensions/py37_cu116/gymtorch/build.ninja...\n",
      "Building extension module gymtorch...\n",
      "Allowing ninja to set a default number of workers... (overridable by setting the environment variable MAX_JOBS=N)\n"
     ]
    },
    {
     "name": "stdout",
     "output_type": "stream",
     "text": [
      "ninja: no work to do.\n"
     ]
    },
    {
     "name": "stderr",
     "output_type": "stream",
     "text": [
      "Loading extension module gymtorch...\n"
     ]
    }
   ],
   "source": [
    "import copy\n",
    "from typing import Tuple\n",
    "\n",
    "# isaac gym has to be imported before torch\n",
    "from isaac_evaluation.grasp_quality_evaluation import GraspSuccessEvaluator\n",
    "import trimesh\n",
    "\n",
    "import scipy.spatial.transform\n",
    "import numpy as np\n",
    "from se3dif.datasets import AcronymGraspsDirectory\n",
    "from se3dif.models.loader import load_model\n",
    "from se3dif.samplers import ApproximatedGrasp_AnnealedLD, Grasp_AnnealedLD\n",
    "from se3dif.utils import to_numpy, to_torch\n",
    "from se3dif.visualization import grasp_visualization\n",
    "\n",
    "import torch"
   ]
  },
  {
   "cell_type": "code",
   "execution_count": 2,
   "metadata": {},
   "outputs": [],
   "source": [
    "N_GRASPS = 10               # argument values from README: 10,10,10. default in argparse: 200\n",
    "OBJ_ID = 0                  # argument values from README: 0,10,12.  default in argparse: 0\n",
    "OBJ_CLASS = \"ScrewDriver\"   # argument values from README: 'ScrewDriver','grasp_dif_mugs','Mug'. default in argparse: \"Laptop\"\n",
    "N_ENVS = 30                 # hardcoded in the code with default value 30 in __main__\n",
    "DEVICE = \"cuda:0\"           # argumant values from README: n.a., n.a., n.a. default in argparse: \"cuda:0\"\n",
    "EVAL_SIM = False            # argument values from README: n.a., n.a., n.a. default in argparse: False\n",
    "MODEL = \"grasp_dif_multi\"   # argument values from README: n.a., 'grasp_dif_mugs', n.a. default in argparse: 'grasp_dif_multi'\n",
    "BATCH = 10                  # hardcoded in code with default value 10 in get_approximated_grasp_diffusion_field"
   ]
  },
  {
   "cell_type": "code",
   "execution_count": 3,
   "metadata": {},
   "outputs": [],
   "source": [
    "def get_object(\n",
    "    obj_id: int, obj_class: str\n",
    ") -> Tuple[\"NpArray[3, N]\", trimesh.Trimesh, \"NpArray[4, 4]\", \"NpArray[4, 4]\"]:\n",
    "    \"\"\"Load the mesh of the specified object and sample a pointcloud from it.\n",
    "    The pointcloud is rotated randomly, scaled by 8 and made zero mean.\n",
    "\n",
    "    Args:\n",
    "        obj_id (int): The id of the object to load.\n",
    "        obj_class (str): The class of the object to load.\n",
    "\n",
    "    Returns:\n",
    "        Tuple[\"NpArray[3, N]\", trimesh.Trimesh, \"NpArray[4, 4]\", \"NpArray[4]\"]: The pointcloud, \n",
    "            the mesh, the homogenaous transformation matrix of the rotation and the homogeneous\n",
    "            transformation matrix of the translation.\n",
    "    \"\"\"\n",
    "    \n",
    "    # get mesh of object and sample pointcloud\n",
    "    acronym_grasps = AcronymGraspsDirectory(data_type=obj_class)\n",
    "    mesh = acronym_grasps.avail_obj[obj_id].load_mesh()\n",
    "    pointcloud = mesh.sample(1000)\n",
    "\n",
    "    # get a random rotation\n",
    "    H_rot = np.eye(4)\n",
    "    H_rot[:3, :3] = scipy.spatial.transform.Rotation.random().as_matrix()\n",
    "\n",
    "    # TODO refactor this\n",
    "\n",
    "    # apply the rotation to the pointcloud, scale the pointcloud by 8 and make it zero mean\n",
    "    pointcloud = np.einsum(\"mn,bn->bm\", H_rot[:3,:3], pointcloud)\n",
    "    pointcloud *= 8.0\n",
    "    pointcloud_mean = np.mean(pointcloud, 0)\n",
    "    pointcloud += -pointcloud_mean\n",
    "\n",
    "    # apply the rotation to the mesh, scale it by 8 and make it zero mean\n",
    "    mesh.apply_transform(H_rot)\n",
    "    mesh.apply_scale(8.0)\n",
    "    H_trans = np.eye(4)\n",
    "    H_trans[:3, -1] = -pointcloud_mean\n",
    "    mesh.apply_transform(H_trans)\n",
    "\n",
    "    return pointcloud, mesh, H_rot, H_trans"
   ]
  },
  {
   "cell_type": "code",
   "execution_count": 4,
   "metadata": {},
   "outputs": [
    {
     "ename": "NameError",
     "evalue": "name 'pointcloud' is not defined",
     "output_type": "error",
     "traceback": [
      "\u001b[0;31m---------------------------------------------------------------------------\u001b[0m",
      "\u001b[0;31mNameError\u001b[0m                                 Traceback (most recent call last)",
      "\u001b[0;32m/tmp/ipykernel_12910/1640698711.py\u001b[0m in \u001b[0;36m<module>\u001b[0;34m\u001b[0m\n\u001b[1;32m      1\u001b[0m print(\n\u001b[1;32m      2\u001b[0m     \u001b[0;34m\"P: \"\u001b[0m\u001b[0;34m,\u001b[0m\u001b[0;34m\u001b[0m\u001b[0;34m\u001b[0m\u001b[0m\n\u001b[0;32m----> 3\u001b[0;31m     \u001b[0mpointcloud\u001b[0m\u001b[0;34m.\u001b[0m\u001b[0mmin\u001b[0m\u001b[0;34m(\u001b[0m\u001b[0;36m0\u001b[0m\u001b[0;34m)\u001b[0m\u001b[0;34m,\u001b[0m\u001b[0;34m\u001b[0m\u001b[0;34m\u001b[0m\u001b[0m\n\u001b[0m\u001b[1;32m      4\u001b[0m     \u001b[0mpointcloud\u001b[0m\u001b[0;34m.\u001b[0m\u001b[0mmax\u001b[0m\u001b[0;34m(\u001b[0m\u001b[0;36m0\u001b[0m\u001b[0;34m)\u001b[0m\u001b[0;34m,\u001b[0m\u001b[0;34m\u001b[0m\u001b[0;34m\u001b[0m\u001b[0m\n\u001b[1;32m      5\u001b[0m     \u001b[0mpointcloud\u001b[0m\u001b[0;34m.\u001b[0m\u001b[0mshape\u001b[0m\u001b[0;34m,\u001b[0m\u001b[0;34m\u001b[0m\u001b[0;34m\u001b[0m\u001b[0m\n",
      "\u001b[0;31mNameError\u001b[0m: name 'pointcloud' is not defined"
     ]
    }
   ],
   "source": [
    "# print(\n",
    "#     \"P: \",\n",
    "#     pointcloud.min(0),\n",
    "#     pointcloud.max(0),\n",
    "#     pointcloud.shape,\n",
    "#     pointcloud.dtype,\n",
    "#     pointcloud.mean(0),\n",
    "# )\n",
    "# print(\n",
    "#     \"mesh: \",\n",
    "#     type(mesh),\n",
    "#     mesh.vertices.min(0),\n",
    "#     mesh.vertices.max(0),\n",
    "#     mesh.vertices.shape,\n",
    "#     mesh.vertices.dtype,\n",
    "#     mesh.vertices.mean(0),\n",
    "# )\n",
    "# print(\"translational shift\", translational_shift)\n",
    "# print(\"rotational quat\", rot_quat)"
   ]
  },
  {
   "cell_type": "code",
   "execution_count": null,
   "metadata": {},
   "outputs": [],
   "source": [
    "# generator, model = get_approximated_grasp_diffusion_field(P, args, device)\n",
    "# def get_approximated_grasp_diffusion_field(p, args, device='cpu'):\n",
    "\n",
    "\n",
    "model = load_model({\"device\": DEVICE, \"pretrained_model\": MODEL})\n",
    "\n",
    "def get_grasp_generator(pointcloud, model):\n",
    "    ## Load model\n",
    "\n",
    "    model.set_latent(to_torch(pointcloud[None, ...], DEVICE), batch=BATCH)\n",
    "\n",
    "    ########### 2. SET SAMPLING METHOD #############\n",
    "    generator = Grasp_AnnealedLD(\n",
    "        model, batch=BATCH, T=70, T_fit=50, k_steps=2, device=DEVICE\n",
    "    )"
   ]
  },
  {
   "cell_type": "code",
   "execution_count": null,
   "metadata": {},
   "outputs": [],
   "source": [
    "print(\"generator: \", type(generator))\n",
    "print(\"model: \", type(MODEL))"
   ]
  },
  {
   "cell_type": "code",
   "execution_count": null,
   "metadata": {},
   "outputs": [],
   "source": [
    "H = generator.sample()\n",
    "\n",
    "H_grasp = copy.deepcopy(H)\n",
    "# counteract the translational shift of the pointcloud (as the spawned model in simulation will still have it)\n",
    "H_grasp[:, :3, -1] = (H_grasp[:, :3, -1] - torch.as_tensor(translational_shift[:3,-1],device=DEVICE)).float()\n",
    "H[..., :3, -1] *=1/8.\n",
    "H_grasp[..., :3, -1] *=1/8.\n",
    "\n",
    "## Visualize results ##\n",
    "\n",
    "vis_H = H.squeeze()\n",
    "pointcloud *=1/8\n",
    "mesh = mesh.apply_scale(1/8)\n",
    "scene = grasp_visualization.visualize_grasps(to_numpy(H), p_cloud=pointcloud, mesh=mesh, show=False)"
   ]
  },
  {
   "cell_type": "code",
   "execution_count": null,
   "metadata": {},
   "outputs": [],
   "source": [
    "scene.show()"
   ]
  },
  {
   "cell_type": "code",
   "execution_count": null,
   "metadata": {},
   "outputs": [],
   "source": [
    "# if (EVAL_SIM):\n",
    "#     ## Evaluate Grasps in Simulation##\n",
    "#     num_eval_envs = 10\n",
    "#     evaluator = GraspSuccessEvaluator(OBJ_CLASS, n_envs=num_eval_envs, idxs=[args.obj_id] * num_eval_envs, viewer=True, device=DEVICE, \\\n",
    "#                                         rotations=[rot_quad]*num_eval_envs, enable_rel_trafo=False)\n",
    "#     succes_rate = evaluator.eval_set_of_grasps(H_grasp)\n",
    "#     print('Success cases : {}'.format(succes_rate))"
   ]
  }
 ],
 "metadata": {
  "kernelspec": {
   "display_name": "se3dif_env",
   "language": "python",
   "name": "python3"
  },
  "language_info": {
   "codemirror_mode": {
    "name": "ipython",
    "version": 3
   },
   "file_extension": ".py",
   "mimetype": "text/x-python",
   "name": "python",
   "nbconvert_exporter": "python",
   "pygments_lexer": "ipython3",
   "version": "3.7.12"
  }
 },
 "nbformat": 4,
 "nbformat_minor": 2
}
